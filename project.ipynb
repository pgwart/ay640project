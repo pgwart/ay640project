{
 "cells": [
  {
   "cell_type": "code",
   "execution_count": 1,
   "id": "e2a01350-caef-4edd-a4a4-384eeb72a201",
   "metadata": {},
   "outputs": [],
   "source": [
    "import sirtipy\n",
    "import RPproject as rpp\n",
    "import astropy.units as u\n",
    "import matplotlib.pyplot as plt\n",
    "import numpy as np"
   ]
  },
  {
   "cell_type": "code",
   "execution_count": 2,
   "id": "faf227b2-f24b-4f7e-bf0f-fa821381453a",
   "metadata": {},
   "outputs": [],
   "source": [
    "# Assume constant absorption\n",
    "def alpha_constant(frequency, location, Inu, alpha_val):\n",
    "    return alpha_val\n",
    "\n",
    "# Blackbody thermal emission from experiment 2\n",
    "def j_thermal(frequency, location, Inu, temperature, alphafunc, alphafunc_args):\n",
    "    B = sirtipy.blackbody_intensity(temperature, frequency)\n",
    "    alpha = alphafunc(frequency, location, Inu, *alphafunc_args)\n",
    "    return alpha*B"
   ]
  },
  {
   "cell_type": "code",
   "execution_count": 54,
   "id": "161eb07b-1129-4ca8-9f7a-da7394205e25",
   "metadata": {},
   "outputs": [],
   "source": [
    "# Define medium\n",
    "medium_temp = 1000\n",
    "alpha_0 = 1e-20\n",
    "\n",
    "medium = sirtipy.region()\n",
    "medium.add_emission_func(j_thermal, (medium_temp, alpha_constant, (alpha_0,)))\n",
    "medium.add_absorption_func(alpha_constant, (alpha_0,))\n",
    "\n",
    "freqaxis = sirtipy.frequency_axis('log', frange=[1.*u.cm, 1e-5*u.cm])\n",
    "\n",
    "\n",
    "height = 100*u.pc \n",
    "s = [0, int(height.to(u.cm).value)]\n",
    "ds = int(height.to(u.cm).value/500)"
   ]
  },
  {
   "cell_type": "code",
   "execution_count": null,
   "id": "a653c862-797f-40bd-a22c-b1ad31d33136",
   "metadata": {},
   "outputs": [],
   "source": [
    "# Due to long computation time, calculate stellar intensity with fewer points and then use interpolation\n",
    "faxis = np.geomspace(np.min(freqaxis.frequencies), np.max(freqaxis.frequencies), 100)\n",
    "def I_stellar(faxis):\n",
    "    tstart = 0.7e9 # How many years before the light was emitted that star formation started\n",
    "    tstop  = 0.3e9 # How many years before the light was emtited that star formation ended\n",
    "    return rpp.generate_blackbody(faxis, tstart, tstop, rpp.exp_SFR)\n",
    "  \n",
    "coeff = 1e-34\n",
    "I_initial = I_stellar(faxis)\n",
    "star_spectrum = [coeff*np.interp(f, faxis, I_initial) for f in freqaxis.frequencies]\n",
    "def j_stellar(frequency, location, Inu, dummy_arg):\n",
    "    return np.interp(frequency, faxis, star_spectrum)\n",
    "\n",
    "medium.add_emission_func(j_stellar,(None,))\n"
   ]
  },
  {
   "cell_type": "code",
   "execution_count": null,
   "id": "74d2133b-cc70-4195-9dea-ab32110da520",
   "metadata": {},
   "outputs": [],
   "source": [
    "# Create initial spectrum\n",
    "inspec = sirtipy.spectrum('empty', frequencies=freqaxis)"
   ]
  },
  {
   "cell_type": "code",
   "execution_count": null,
   "id": "761e1754-dff0-4a61-9d77-566132388e3e",
   "metadata": {},
   "outputs": [],
   "source": [
    "spec, tau, locations = sirtipy.radiative_transfer(medium, inspec, s, ds, printevery=50)"
   ]
  },
  {
   "cell_type": "code",
   "execution_count": null,
   "id": "a5186469-630d-440f-bbc8-8a3ac34ad3bd",
   "metadata": {},
   "outputs": [],
   "source": [
    "spec[-1].plot()\n",
    "plt.xlim(1e17,1e10)\n",
    "plt.yscale('log')\n",
    "plt.xscale('log')"
   ]
  },
  {
   "cell_type": "code",
   "execution_count": null,
   "id": "50e3b8cd-27c8-4dcc-80c0-bd285f2326c2",
   "metadata": {},
   "outputs": [],
   "source": [
    "for t in spec:\n",
    "    print(np.max(t.intensity))"
   ]
  },
  {
   "cell_type": "code",
   "execution_count": null,
   "id": "744db336-4665-486d-ac08-055e0fae2778",
   "metadata": {},
   "outputs": [],
   "source": [
    "Inu = [f*s for f,s in zip(freqaxis.frequencies, spec[-1].intensity)]\n",
    "plt.plot(freqaxis.frequencies, Inu)\n",
    "plt.yscale('log')\n",
    "plt.xscale('log')\n",
    "plt.xlim(1e17, 1e10)"
   ]
  },
  {
   "cell_type": "code",
   "execution_count": null,
   "id": "451d7106-22e3-4eb3-a752-942a65341c1a",
   "metadata": {},
   "outputs": [],
   "source": []
  }
 ],
 "metadata": {
  "kernelspec": {
   "display_name": "Python 3 (ipykernel)",
   "language": "python",
   "name": "python3"
  },
  "language_info": {
   "codemirror_mode": {
    "name": "ipython",
    "version": 3
   },
   "file_extension": ".py",
   "mimetype": "text/x-python",
   "name": "python",
   "nbconvert_exporter": "python",
   "pygments_lexer": "ipython3",
   "version": "3.10.9"
  }
 },
 "nbformat": 4,
 "nbformat_minor": 5
}
